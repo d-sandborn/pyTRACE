


from pyTRACE import trace
import numpy as np

 
output = trace(output_coordinates=np.array([[0, 0, 0], [0, 0, 0]]),
               dates=np.array([2000, 2200]),
               predictor_measurements=np.array([[35, 20], [35, 20]]),
               predictor_types=np.array([1, 2]),
               atm_co2_trajectory=9,
               verbose_tf = False #to remove loading bars from the notebook
              )

output





import pandas as pd
input_df = pd.DataFrame(
    {
        "lat": np.ones((10000)),
        "lon": np.linspace(-80, 80, 10000),
        "depth": np.random.normal(loc=1000, size=(10000)),
        "year": np.ones((10000)) * 2020,
        "sal": np.random.normal(loc=35, size=(10000)),
        "temp": np.random.normal(loc=15, size=(10000)),
    }
)

%timeit trace(output_coordinates=input_df[["lat", "lon", "depth"]].to_numpy(), dates=input_df.year.to_numpy(), predictor_measurements=input_df[["sal", "temp"]].to_numpy(),predictor_types=np.array([1, 2]),atm_co2_trajectory=5,verbose_tf = False)





gridx, gridy = np.meshgrid(np.linspace(-20,-71), np.linspace(-20,45))

input_df = pd.DataFrame(
    {
        "lat": gridx.ravel(),
        "lon": gridy.ravel(),
        "depth": np.ones(len(gridx.ravel()))*1500,
        "year": np.ones(len(gridx.ravel())) * 2020,
        "sal": np.ones(len(gridx.ravel()))*35,
        "temp": np.ones(len(gridx.ravel())) * 5,
    }
)

output = trace(output_coordinates=input_df[["lat", "lon", "depth"]].to_numpy(), 
               dates=input_df.year.to_numpy(), 
               predictor_measurements=input_df[["sal", "temp"]].to_numpy(),
               predictor_types=np.array([1, 2]),
               atm_co2_trajectory=5,
               verbose_tf = False)

output


import matplotlib.pyplot as plt
fig, ax = plt.subplot()
ax.pcolormesh(gridx, gridy, reshape(output.canth.data, gridx.shape))



